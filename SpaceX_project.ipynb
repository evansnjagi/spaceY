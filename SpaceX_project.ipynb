{
  "cells": [
    {
      "cell_type": "markdown",
      "metadata": {
        "id": "view-in-github",
        "colab_type": "text"
      },
      "source": [
        "<a href=\"https://colab.research.google.com/github/evansnjagi/spaceY/blob/main/SpaceX_project.ipynb\" target=\"_parent\"><img src=\"https://colab.research.google.com/assets/colab-badge.svg\" alt=\"Open In Colab\"/></a>"
      ]
    },
    {
      "cell_type": "markdown",
      "metadata": {
        "id": "s1bV8M8Q5zOB"
      },
      "source": [
        "# getting the data from the spaceX api\n",
        "# Objectives\n",
        "- Booster version  from the rocket database\n",
        "- Launch site and get, latitude, longitude, and the name\n",
        "- Payload getting the mass kilograms and the orbit\n",
        "- core(the outcome for landing). We will get the following data, type of landing, number of flights with the core, whether grids were used, whether the core we re-used, whether legs were used, landing pad used, block of the core( number used to separate version cores), number of times the specific core has been reused and finally serial of the core."
      ]
    },
    {
      "cell_type": "code",
      "execution_count": null,
      "metadata": {
        "id": "8eGNNg_V47YY"
      },
      "outputs": [],
      "source": [
        "%%capture\n",
        "! pip install requests"
      ]
    },
    {
      "cell_type": "code",
      "execution_count": null,
      "metadata": {
        "id": "vp5TyVCr7ziK"
      },
      "outputs": [],
      "source": [
        "# library codes\n",
        "\n",
        "import requests\n",
        "import pandas as pd\n",
        "import json\n"
      ]
    },
    {
      "cell_type": "code",
      "execution_count": null,
      "metadata": {
        "id": "i932JMu979eI"
      },
      "outputs": [],
      "source": [
        "# getting the entire dataset\n",
        "response = requests.get(\"https://api.spacexdata.com/v4/launches/past\")\n",
        "data = pd.json_normalize(response.json())\n",
        "print(type(data))\n",
        "print(data.shape)\n",
        "print(data.info())"
      ]
    },
    {
      "cell_type": "code",
      "execution_count": null,
      "metadata": {
        "id": "MTs1CHLM7IRh"
      },
      "outputs": [],
      "source": [
        "# booster version\n",
        "rocket = data[\"rocket\"]\n",
        "BoosterVersion = []\n",
        "\n",
        "for rocket in rocket:\n",
        "    if rocket:\n",
        "        response = requests.get(\"https://api.spacexdata.com/v4/rockets/\"+str(rocket)).json()\n",
        "        BoosterVersion.append(response[\"name\"])\n",
        "# boosterversion into a series\n",
        "\n",
        "BoosterVersion = pd.Series(BoosterVersion)"
      ]
    },
    {
      "cell_type": "code",
      "execution_count": null,
      "metadata": {
        "id": "-6wKX2Fx7uhW"
      },
      "outputs": [],
      "source": [
        "print(type(BoosterVersion))\n",
        "print(f\"The length of the booster version is: {len(BoosterVersion)}\")"
      ]
    },
    {
      "cell_type": "code",
      "execution_count": null,
      "metadata": {
        "id": "yUua5e7y9wRt"
      },
      "outputs": [],
      "source": [
        "from re import L\n",
        "# launchpad, latitude, longitude, and the name of the lauchpad\n",
        "launchpad = data[\"launchpad\"]\n",
        "LaunchSite = []\n",
        "Latitude = []\n",
        "Longitude = []\n",
        "\n",
        "for launchpad in launchpad:\n",
        "    if launchpad:\n",
        "        response = requests.get(\"https://api.spacexdata.com/v4/launchpads/\"+str(launchpad)).json()\n",
        "        latitude = response[\"latitude\"]\n",
        "        longitude = response[\"longitude\"]\n",
        "        name = response[\"name\"]\n",
        "        LaunchSite.append(name)\n",
        "        Latitude.append(latitude)\n",
        "        Longitude.append(Longitude)\n",
        "# into a series\n",
        "LaunchSite = pd.Series(LaunchSite)\n",
        "Latitude = pd.Series(Latitude)\n",
        "Longitude = pd.Series(Longitude)"
      ]
    },
    {
      "cell_type": "code",
      "source": [
        "print(type(LaunchSite))\n",
        "print(f\"The lenght of the launch site is: {len(LaunchSite)}\")\n",
        "print(type(Latitude))\n",
        "print(f\"The lenght of the Latitude is: {len(Latitude)}\")\n",
        "print(type(Longitude))\n",
        "print(f\"The length of the longitude is: {len(Longitude)}\")"
      ],
      "metadata": {
        "id": "shOynqNgd1Lh"
      },
      "execution_count": null,
      "outputs": []
    },
    {
      "cell_type": "code",
      "execution_count": null,
      "metadata": {
        "id": "MMKwT48PBW9i"
      },
      "outputs": [],
      "source": [
        "# getting payload data, mass and orbit\n",
        "Payloads = pd.Series(data[\"payloads\"])\n",
        "Payload = Payloads.apply(lambda x: x[0])\n",
        "\n",
        "Mass_kg = []\n",
        "Orbit = []\n",
        "\n",
        "for payload in Payload:\n",
        "    if payload:\n",
        "        response = requests.get(\"https://api.spacexdata.com/v4/payloads/\" + str(payload)).json()\n",
        "        Mass_kg.append(response[\"mass_kg\"])\n",
        "        Orbit.append(response[\"orbit\"])\n",
        "Mass_kg = pd.Series(Mass_kg)\n",
        "Orbit = pd.Series(Orbit)"
      ]
    },
    {
      "cell_type": "code",
      "source": [
        "print(f\"The length of the mass is: {len(Mass_kg)}\")\n",
        "print(type(Mass_kg))\n",
        "print(f\"The lenght of the orbit is: {len(Orbit)}\")\n",
        "print(type(Orbit))"
      ],
      "metadata": {
        "id": "FnYzT2krdLQm"
      },
      "execution_count": null,
      "outputs": []
    },
    {
      "cell_type": "code",
      "source": [
        "# Initialize lists\n",
        "Block = []\n",
        "ReusedCount = []\n",
        "Serial = []\n",
        "Outcome = []\n",
        "Flights = []\n",
        "GridFins = []\n",
        "Legs = []\n",
        "Reused = []\n",
        "LandingPad = []\n",
        "\n",
        "# Assuming 'data' is your DataFrame\n",
        "cores = data[\"cores\"]\n",
        "Cores = cores.apply(lambda x: x[0] if len(x) > 0 else None)  # Handling empty lists\n",
        "\n",
        "for core in Cores:\n",
        "    if core:\n",
        "        core_series = pd.Series(core)\n",
        "        Core = core_series[\"core\"]\n",
        "\n",
        "        # Requesting the outcome of landing data\n",
        "        response = requests.get(\"https://api.spacexdata.com/v4/cores/\" + str(Core)).json()\n",
        "\n",
        "        Block.append(response[\"block\"])\n",
        "        ReusedCount.append(response[\"reuse_count\"])\n",
        "        Serial.append(\"serial\")\n",
        "\n",
        "        Outcome.append(str(response.get('landing_success', 'None')) + ' ' + str(response.get('landing_type', 'None')))\n",
        "        Flights.append(core_series.get('flight', None))\n",
        "        GridFins.append(core_series.get('gridfins', None))\n",
        "        Reused.append(core_series.get('reused', None))\n",
        "        Legs.append(core_series.get('legs', None))\n",
        "        LandingPad.append(core_series.get('landpad', None))\n",
        "    else:\n",
        "        Block.append(None)\n",
        "        ReusedCount.append(None)\n",
        "        Serial.append(None)\n",
        "        Outcome.append(None)\n",
        "        Flights.append(None)\n",
        "        GridFins.append(None)\n",
        "        Legs.append(None)\n",
        "        Reused.append(None)\n",
        "        LandingPad.append(None)\n",
        "\n",
        "# Convert lists to series\n",
        "Block = pd.Series(Block)\n",
        "ReusedCount = pd.Series(ReusedCount)\n",
        "Serial = pd.Series(Serial)\n",
        "Outcome = pd.Series(Outcome)\n",
        "Flights = pd.Series(Flights)\n",
        "GridFins = pd.Series(GridFins)\n",
        "Legs = pd.Series(Legs)\n",
        "Reused = pd.Series(Reused)\n",
        "LandingPad = pd.Series(LandingPad)\n"
      ],
      "metadata": {
        "id": "lUGBkskVs7A4"
      },
      "execution_count": null,
      "outputs": []
    },
    {
      "cell_type": "code",
      "source": [
        "print(f\"The length of block is {len(Block)}\")\n",
        "print(type(Block))\n",
        "print(f\"The length of reused count is {len(ReusedCount)}\")\n",
        "print(type(ReusedCount))\n",
        "print(f\"The length of serial is {len(Serial)}\")\n",
        "print(type(Serial))\n",
        "print(f\"The length of outcome is {len(Outcome)}\")\n",
        "print(type(Outcome))\n",
        "print(f\"The length of flights is {len(Flights)}\")\n",
        "print(type(Flights))\n",
        "print(f\"The length of grid fins is {len(GridFins)}\")\n",
        "print(type(GridFins))\n",
        "print(f\"The length of legs is {len(Legs)}\")\n",
        "print(type(Legs))\n",
        "print(f\"The length of reused is {len(Reused)}\")\n",
        "print(type(Reused))\n",
        "print(f\"The length of landing pads is {len(LandingPad)}\")\n",
        "print(type(LandingPad))"
      ],
      "metadata": {
        "id": "__OioWQDmcw7"
      },
      "execution_count": null,
      "outputs": []
    },
    {
      "cell_type": "code",
      "source": [
        "# creating a dictionary\n",
        "\n",
        "launch_dict = {\n",
        "    'FlightNumber': list(data['flight_number']),\n",
        "    'Date': list(data['date_utc']),\n",
        "    'BoosterVersion': BoosterVersion,\n",
        "    'PayloadMass': Mass_kg,\n",
        "    'LaunchSite': LaunchSite,\n",
        "    'Orbit': Orbit,\n",
        "    'Outcome': Outcome,\n",
        "    'Flights': Flights,\n",
        "    'GridFins': GridFins,\n",
        "    \"Reused\": Reused,\n",
        "    'ReusedCount': ReusedCount,\n",
        "    'Block': Block,\n",
        "    'Serial': Serial,\n",
        "    'Legs': Legs,\n",
        "    'LandingPad': LandingPad,\n",
        "    'Latitude': Latitude,\n",
        "    'Longitude': Longitude,\n",
        "}"
      ],
      "metadata": {
        "id": "O9ZN-LzTjL8-"
      },
      "execution_count": null,
      "outputs": []
    },
    {
      "cell_type": "code",
      "source": [
        "# creating a dataframe\n",
        "df = pd.DataFrame(launch_dict)\n",
        "df.info()"
      ],
      "metadata": {
        "id": "b2Crm9yamNtZ"
      },
      "execution_count": null,
      "outputs": []
    },
    {
      "cell_type": "code",
      "source": [
        "# getting total number of null values\n",
        "df.isnull().sum()"
      ],
      "metadata": {
        "id": "iwY4DAlGuQl4"
      },
      "execution_count": null,
      "outputs": []
    },
    {
      "cell_type": "code",
      "source": [
        "# filling the payload mass with the mean\n",
        "mean = df[\"PayloadMass\"].mean().round(2)\n",
        "df[\"PayloadMass\"] = df[\"PayloadMass\"].fillna(mean)"
      ],
      "metadata": {
        "id": "kUgET4JTvsub"
      },
      "execution_count": null,
      "outputs": []
    },
    {
      "cell_type": "code",
      "source": [
        "df.isnull().sum()"
      ],
      "metadata": {
        "id": "Cha4PbQBv5FE"
      },
      "execution_count": null,
      "outputs": []
    },
    {
      "cell_type": "code",
      "source": [
        "data_falcon9 = df[df['BoosterVersion'] == 'Falcon 9']"
      ],
      "metadata": {
        "id": "QLKBGxfBwGk9"
      },
      "execution_count": null,
      "outputs": []
    },
    {
      "cell_type": "code",
      "source": [
        "# reseting the flight number column\n",
        "data_falcon9.loc[:,'FlightNumber'] = list(range(1, data_falcon9.shape[0]+1))\n",
        "data_falcon9"
      ],
      "metadata": {
        "id": "-kP8RyNpxBEw"
      },
      "execution_count": null,
      "outputs": []
    },
    {
      "cell_type": "code",
      "source": [
        "# saving the spaceX data\n",
        "path = \"spaceX_falcom9.csv\"\n",
        "pd.to_csv(path)"
      ],
      "metadata": {
        "id": "y7H3J2qJwRKT"
      },
      "execution_count": null,
      "outputs": []
    },
    {
      "cell_type": "code",
      "source": [
        "from google.colab import drive\n",
        "drive.mount('/content/drive')"
      ],
      "metadata": {
        "id": "YsfWJA4JyQ2b"
      },
      "execution_count": null,
      "outputs": []
    },
    {
      "cell_type": "markdown",
      "source": [
        "# AUTHERED BY: EVANS NJAGI KARAGO"
      ],
      "metadata": {
        "id": "Iqc3UjtjxcGQ"
      }
    }
  ],
  "metadata": {
    "colab": {
      "provenance": [],
      "authorship_tag": "ABX9TyOsiBNx+3SvcXFABexMkcSF",
      "include_colab_link": true
    },
    "kernelspec": {
      "display_name": "Python 3",
      "name": "python3"
    },
    "language_info": {
      "name": "python"
    }
  },
  "nbformat": 4,
  "nbformat_minor": 0
}